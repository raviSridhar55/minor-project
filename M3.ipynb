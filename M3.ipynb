{
 "cells": [
  {
   "cell_type": "code",
   "execution_count": 1,
   "id": "6eaac52a",
   "metadata": {},
   "outputs": [],
   "source": [
    "import numpy as np\n",
    "import pandas as pd"
   ]
  },
  {
   "cell_type": "code",
   "execution_count": 2,
   "id": "67ca99f5",
   "metadata": {},
   "outputs": [],
   "source": [
    "data=pd.read_csv(\"drug.csv\")"
   ]
  },
  {
   "cell_type": "code",
   "execution_count": 3,
   "id": "34022d89",
   "metadata": {},
   "outputs": [
    {
     "data": {
      "text/html": [
       "<div>\n",
       "<style scoped>\n",
       "    .dataframe tbody tr th:only-of-type {\n",
       "        vertical-align: middle;\n",
       "    }\n",
       "\n",
       "    .dataframe tbody tr th {\n",
       "        vertical-align: top;\n",
       "    }\n",
       "\n",
       "    .dataframe thead th {\n",
       "        text-align: right;\n",
       "    }\n",
       "</style>\n",
       "<table border=\"1\" class=\"dataframe\">\n",
       "  <thead>\n",
       "    <tr style=\"text-align: right;\">\n",
       "      <th></th>\n",
       "      <th>Unnamed: 0</th>\n",
       "      <th>Unnamed: 0.1</th>\n",
       "      <th>Unnamed: 0.1.1</th>\n",
       "      <th>Unnamed: 0.1.1.1</th>\n",
       "      <th>condition</th>\n",
       "      <th>review</th>\n",
       "      <th>rating</th>\n",
       "      <th>date</th>\n",
       "      <th>usefulCount</th>\n",
       "      <th>drugName</th>\n",
       "    </tr>\n",
       "  </thead>\n",
       "  <tbody>\n",
       "    <tr>\n",
       "      <th>0</th>\n",
       "      <td>0</td>\n",
       "      <td>148873</td>\n",
       "      <td>149718</td>\n",
       "      <td>73450</td>\n",
       "      <td>Birth Control</td>\n",
       "      <td>\"I loved this pill at first, it got rid if my ...</td>\n",
       "      <td>4</td>\n",
       "      <td>November 28, 2013</td>\n",
       "      <td>22</td>\n",
       "      <td>Ethinyl estradiol / norethindrone</td>\n",
       "    </tr>\n",
       "    <tr>\n",
       "      <th>1</th>\n",
       "      <td>1</td>\n",
       "      <td>142496</td>\n",
       "      <td>143318</td>\n",
       "      <td>73600</td>\n",
       "      <td>Birth Control</td>\n",
       "      <td>\"I started taking the pill a little over a mon...</td>\n",
       "      <td>5</td>\n",
       "      <td>May 28, 2013</td>\n",
       "      <td>6</td>\n",
       "      <td>Ethinyl estradiol / norethindrone</td>\n",
       "    </tr>\n",
       "    <tr>\n",
       "      <th>2</th>\n",
       "      <td>2</td>\n",
       "      <td>102598</td>\n",
       "      <td>103191</td>\n",
       "      <td>72720</td>\n",
       "      <td>Birth Control</td>\n",
       "      <td>\"This is the first pill that I&amp;#039;ve tried w...</td>\n",
       "      <td>7</td>\n",
       "      <td>August 28, 2015</td>\n",
       "      <td>2</td>\n",
       "      <td>Ethinyl estradiol / norethindrone</td>\n",
       "    </tr>\n",
       "    <tr>\n",
       "      <th>3</th>\n",
       "      <td>3</td>\n",
       "      <td>559</td>\n",
       "      <td>562</td>\n",
       "      <td>72638</td>\n",
       "      <td>Birth Control</td>\n",
       "      <td>\"I&amp;#039;ve been on Junel Fe for 9 months now. ...</td>\n",
       "      <td>3</td>\n",
       "      <td>September 22, 2015</td>\n",
       "      <td>5</td>\n",
       "      <td>Ethinyl estradiol / norethindrone</td>\n",
       "    </tr>\n",
       "    <tr>\n",
       "      <th>4</th>\n",
       "      <td>4</td>\n",
       "      <td>73183</td>\n",
       "      <td>73619</td>\n",
       "      <td>16494</td>\n",
       "      <td>Birth Control</td>\n",
       "      <td>\"This pill overall is not good. its been about...</td>\n",
       "      <td>2</td>\n",
       "      <td>December 25, 2015</td>\n",
       "      <td>15</td>\n",
       "      <td>Ethinyl estradiol / norethindrone</td>\n",
       "    </tr>\n",
       "  </tbody>\n",
       "</table>\n",
       "</div>"
      ],
      "text/plain": [
       "   Unnamed: 0  Unnamed: 0.1  Unnamed: 0.1.1  Unnamed: 0.1.1.1      condition  \\\n",
       "0           0        148873          149718             73450  Birth Control   \n",
       "1           1        142496          143318             73600  Birth Control   \n",
       "2           2        102598          103191             72720  Birth Control   \n",
       "3           3           559             562             72638  Birth Control   \n",
       "4           4         73183           73619             16494  Birth Control   \n",
       "\n",
       "                                              review  rating  \\\n",
       "0  \"I loved this pill at first, it got rid if my ...       4   \n",
       "1  \"I started taking the pill a little over a mon...       5   \n",
       "2  \"This is the first pill that I&#039;ve tried w...       7   \n",
       "3  \"I&#039;ve been on Junel Fe for 9 months now. ...       3   \n",
       "4  \"This pill overall is not good. its been about...       2   \n",
       "\n",
       "                 date  usefulCount                           drugName  \n",
       "0   November 28, 2013           22  Ethinyl estradiol / norethindrone  \n",
       "1        May 28, 2013            6  Ethinyl estradiol / norethindrone  \n",
       "2     August 28, 2015            2  Ethinyl estradiol / norethindrone  \n",
       "3  September 22, 2015            5  Ethinyl estradiol / norethindrone  \n",
       "4   December 25, 2015           15  Ethinyl estradiol / norethindrone  "
      ]
     },
     "execution_count": 3,
     "metadata": {},
     "output_type": "execute_result"
    }
   ],
   "source": [
    "data.head()"
   ]
  },
  {
   "cell_type": "code",
   "execution_count": 4,
   "id": "18881731",
   "metadata": {},
   "outputs": [
    {
     "data": {
      "text/plain": [
       "(18160, 10)"
      ]
     },
     "execution_count": 4,
     "metadata": {},
     "output_type": "execute_result"
    }
   ],
   "source": [
    "data.shape"
   ]
  },
  {
   "cell_type": "code",
   "execution_count": 5,
   "id": "4a47d03c",
   "metadata": {},
   "outputs": [
    {
     "data": {
      "text/plain": [
       "Index(['Unnamed: 0', 'Unnamed: 0.1', 'Unnamed: 0.1.1', 'Unnamed: 0.1.1.1',\n",
       "       'condition', 'review', 'rating', 'date', 'usefulCount', 'drugName'],\n",
       "      dtype='object')"
      ]
     },
     "execution_count": 5,
     "metadata": {},
     "output_type": "execute_result"
    }
   ],
   "source": [
    "data.columns"
   ]
  },
  {
   "cell_type": "code",
   "execution_count": 6,
   "id": "32c16811",
   "metadata": {},
   "outputs": [
    {
     "data": {
      "text/plain": [
       "(18160, 10)"
      ]
     },
     "execution_count": 6,
     "metadata": {},
     "output_type": "execute_result"
    }
   ],
   "source": [
    "data1=data.dropna()\n",
    "data1.shape"
   ]
  },
  {
   "cell_type": "code",
   "execution_count": 7,
   "id": "32ecaae1",
   "metadata": {},
   "outputs": [
    {
     "name": "stdout",
     "output_type": "stream",
     "text": [
      "   Unnamed: 0  Unnamed: 0.1  Unnamed: 0.1.1  Unnamed: 0.1.1.1      condition  \\\n",
      "0           0        148873          149718             73450  Birth Control   \n",
      "1           1        142496          143318             73600  Birth Control   \n",
      "2           2        102598          103191             72720  Birth Control   \n",
      "3           3           559             562             72638  Birth Control   \n",
      "4           4         73183           73619             16494  Birth Control   \n",
      "\n",
      "                                              review  rating  \\\n",
      "0  \"I loved this pill at first, it got rid if my ...       4   \n",
      "1  \"I started taking the pill a little over a mon...       5   \n",
      "2  \"This is the first pill that I&#039;ve tried w...       7   \n",
      "3  \"I&#039;ve been on Junel Fe for 9 months now. ...       3   \n",
      "4  \"This pill overall is not good. its been about...       2   \n",
      "\n",
      "                 date  usefulCount                           drugName  \n",
      "0   November 28, 2013           22  Ethinyl estradiol / norethindrone  \n",
      "1        May 28, 2013            6  Ethinyl estradiol / norethindrone  \n",
      "2     August 28, 2015            2  Ethinyl estradiol / norethindrone  \n",
      "3  September 22, 2015            5  Ethinyl estradiol / norethindrone  \n",
      "4   December 25, 2015           15  Ethinyl estradiol / norethindrone  \n"
     ]
    }
   ],
   "source": [
    "print(data1.head())"
   ]
  },
  {
   "cell_type": "code",
   "execution_count": 8,
   "id": "2f4c59d0",
   "metadata": {},
   "outputs": [
    {
     "data": {
      "text/plain": [
       "array(['Ethinyl estradiol / norethindrone', 'Levonorgestrel',\n",
       "       'Ethinyl estradiol / norgestimate', 'Etonogestrel', 'Nexplanon'],\n",
       "      dtype=object)"
      ]
     },
     "execution_count": 8,
     "metadata": {},
     "output_type": "execute_result"
    }
   ],
   "source": [
    "data1.drugName.unique()"
   ]
  },
  {
   "cell_type": "code",
   "execution_count": 9,
   "id": "a07f3746",
   "metadata": {},
   "outputs": [],
   "source": [
    "import matplotlib.pyplot as plt\n",
    "import seaborn as sns\n"
   ]
  },
  {
   "cell_type": "code",
   "execution_count": 10,
   "id": "62aecbd9",
   "metadata": {},
   "outputs": [
    {
     "data": {
      "text/plain": [
       "Ethinyl estradiol / norethindrone    3632\n",
       "Levonorgestrel                       3632\n",
       "Ethinyl estradiol / norgestimate     3632\n",
       "Etonogestrel                         3632\n",
       "Nexplanon                            3632\n",
       "Name: drugName, dtype: int64"
      ]
     },
     "execution_count": 10,
     "metadata": {},
     "output_type": "execute_result"
    }
   ],
   "source": [
    "data1.drugName.value_counts()"
   ]
  },
  {
   "cell_type": "code",
   "execution_count": 11,
   "id": "a5e781fa",
   "metadata": {},
   "outputs": [],
   "source": [
    "import re\n",
    "import string\n",
    "import nltk\n",
    "from nltk.corpus import stopwords\n",
    "stopword=set(stopwords.words('english'))\n",
    "stemmer = nltk.SnowballStemmer(\"english\")\n"
   ]
  },
  {
   "cell_type": "code",
   "execution_count": 13,
   "id": "36453b44",
   "metadata": {},
   "outputs": [],
   "source": [
    "def clean(text):\n",
    "    text = str(text).lower()\n",
    "    text = re.sub('\\[.*?\\]', '', text)\n",
    "    text = re.sub('https?://\\S+|www\\.\\S+', '', text)\n",
    "    text = re.sub('<.*?>+', '', text)\n",
    "    text = re.sub('[%s]' % re.escape(string.punctuation), '', text)\n",
    "    text = re.sub('\\n', '', text)\n",
    "    text = re.sub('\\w*\\d\\w*', '', text)\n",
    "    text = [word for word in text.split(' ') if word not in stopword]\n",
    "    text=\" \".join(text)\n",
    "    text = [stemmer.stem(word) for word in text.split(' ')]\n",
    "    text=\" \".join(text)\n",
    "    return text\n",
    "data[\"review\"] = data[\"review\"].apply(clean)"
   ]
  },
  {
   "cell_type": "code",
   "execution_count": 14,
   "id": "40d3473c",
   "metadata": {},
   "outputs": [],
   "source": [
    "x = np.array(data1[\"review\"])\n",
    "y = np.array(data1[\"drugName\"])"
   ]
  },
  {
   "cell_type": "code",
   "execution_count": 15,
   "id": "837270f7",
   "metadata": {},
   "outputs": [
    {
     "data": {
      "text/plain": [
       "array(['\"I loved this pill at first, it got rid if my terrible cramps. A few months after, however, I had two periods each month. Now I have a period every other week. The birth control pill is a hit-or-miss type of business.\"',\n",
       "       '\"I started taking the pill a little over a month ago and it still makes me feel so nauseous. I bled for a full month and it was heavy some days and light others but the doctor said that was normal. I don&#039;t want to stop taking it because I&#039;m getting married in two months so I&#039;m pushing through the horribleness of it and hoping the nausea goes away eventually. Oh and it makes me so moody too!\"',\n",
       "       '\"This is the first pill that I&#039;ve tried which I&#039;ve liked being on; I&#039;ve had no acne, my periods are more manageable with mood swings GREATLY reduced (a blessing). My breasts also grew which I was pleased about as I&#039;m usually a B cup. I had a little soreness from that but not huge amount. The only downside is weight gain. I&#039;ve put on a couple of pounds and cannot seem to shift it, which is very unusual for me. I&#039;m eating 1500 calories per day and have a varied, healthy diet but I still seem to be maintains or even gaining weight, which is a little depressing. I&#039;m not sure I will give up on it just yet though as its great in all other respects.\"',\n",
       "       ...,\n",
       "       '\"I had nexplanon inserted in 2013, and I have an appointment to get it removed and reinserted next week as its been 3 years! I originally got it because my period cramps were so bad that I would faint from the pain, and I had been on the pill but didn&#039;t like having to take it everyday. After reading all the bad reviews, I thought I would contribute. When I first had it inserted, I had light spotting for about three weeks. I don&#039;t get my period or any spotting now-the last time I got my period was March 2014. Gaining weight was a huge concern for me when debating whether I should get it or not, but I haven&#039;t had that much weight gain-I contribute it more to my college diet but I also work out a lot. Overall, I love it and recommend it!\"',\n",
       "       '\"I have had my nexplanon implant for 5 months now and absolutely love it. I first tried getting an IUD but unfortunately ran into complications because my cervix was too narrow. I then opted to get the nexplanon implant and unlike my IUD experience, it was almost completely painless - just a pinch. With getting the nexplanon, I had a few concerns: 1. That my acne would come back (my birth control pills greatly controlled my acne) 2. That I wouldn&#039;t stop spotting. At the beginning, I only spotted for 2-3 weeks. After a month, I would get monthly very very light periods (3 days) and after 3 months, I lost my period. I get slight mood swings but no acne or weight gain. The only annoying thing now is that I have to take pregnancy tests.\"',\n",
       "       '\"I&#039;ve been on this birth control since February of 2014, so about 14 months now. I love the fact that it last for 3 years and don&#039;t have to worry about taking a pill every day, but I am considering getting it taken out. With little to no effort at all I&#039;ve gained 45lbs, zero sex drive, horrible mood swings with periods of depression. I bled for about a month after I got it put in and have no had a period ever since. I get all the symptoms that I&#039;m going to start my period but no menstruation ever occurs. Every now and then the part of my arm where the rod was inserted with ache badly.While I think this form of contraception works great for some people, I do not think it works for me at all. It feels like the symptoms are only getting worse.\"'],\n",
       "      dtype=object)"
      ]
     },
     "execution_count": 15,
     "metadata": {},
     "output_type": "execute_result"
    }
   ],
   "source": [
    "x"
   ]
  },
  {
   "cell_type": "code",
   "execution_count": 16,
   "id": "1237f82e",
   "metadata": {},
   "outputs": [
    {
     "data": {
      "text/plain": [
       "array(['Ethinyl estradiol / norethindrone',\n",
       "       'Ethinyl estradiol / norethindrone',\n",
       "       'Ethinyl estradiol / norethindrone', ..., 'Nexplanon', 'Nexplanon',\n",
       "       'Nexplanon'], dtype=object)"
      ]
     },
     "execution_count": 16,
     "metadata": {},
     "output_type": "execute_result"
    }
   ],
   "source": [
    "y"
   ]
  },
  {
   "cell_type": "markdown",
   "id": "24f16f3d",
   "metadata": {},
   "source": [
    "vector = 1,2,3,,,,,,,\n",
    "[1\n",
    "2\n",
    "3\n",
    "3]\n",
    "\n",
    "sca= 6\n",
    "sca2 = 68"
   ]
  },
  {
   "cell_type": "code",
   "execution_count": 17,
   "id": "180d39cd",
   "metadata": {},
   "outputs": [],
   "source": [
    "from sklearn.feature_extraction.text import CountVectorizer\n",
    "from sklearn.model_selection import train_test_split"
   ]
  },
  {
   "cell_type": "code",
   "execution_count": 18,
   "id": "9520acf6",
   "metadata": {},
   "outputs": [],
   "source": [
    "cv = CountVectorizer()\n",
    "X = cv.fit_transform(x) # Fit the Data\n",
    "X_train, X_test, y_train, y_test = train_test_split(X, y, test_size=0.33, random_state=42)\n"
   ]
  },
  {
   "cell_type": "code",
   "execution_count": 19,
   "id": "bb5121a1",
   "metadata": {},
   "outputs": [
    {
     "data": {
      "text/plain": [
       "RandomForestClassifier()"
      ]
     },
     "execution_count": 19,
     "metadata": {},
     "output_type": "execute_result"
    }
   ],
   "source": [
    "from sklearn.ensemble import RandomFore stClassifier\n",
    "clf = RandomForestClassifier()\n",
    "clf.fit(X_train,y_train)\n",
    "# train input and output\n",
    "#now my module is in clf"
   ]
  },
  {
   "cell_type": "code",
   "execution_count": 21,
   "id": "8a44a13e",
   "metadata": {},
   "outputs": [],
   "source": [
    "#for validating - test input\n",
    "pre=clf.predict(X_test)"
   ]
  },
  {
   "cell_type": "code",
   "execution_count": 22,
   "id": "2c7907e6",
   "metadata": {
    "scrolled": true
   },
   "outputs": [
    {
     "name": "stdout",
     "output_type": "stream",
     "text": [
      "RandomForestClassifier accuracy: 72.56799599532788\n"
     ]
    }
   ],
   "source": [
    "from sklearn.metrics import accuracy_score\n",
    "a = accuracy_score(y_test,pre)*100\n",
    "print('RandomForestClassifier accuracy:',a)"
   ]
  },
  {
   "cell_type": "code",
   "execution_count": 23,
   "id": "0b02347d",
   "metadata": {},
   "outputs": [
    {
     "name": "stdout",
     "output_type": "stream",
     "text": [
      "Confusion Matrix result of Decision Tree Classifier is:\n",
      " [[1015  137   10   19    2]\n",
      " [ 170  992    3   15    4]\n",
      " [  45    9  532   33  575]\n",
      " [  20   11   23 1173    6]\n",
      " [  11    6  540    5  637]]\n",
      "\n",
      "Sensitivity :  0.8810763888888888\n",
      "\n",
      "Specificity :  0.8537005163511188\n",
      "\n"
     ]
    }
   ],
   "source": [
    "#According to the cross-validated MCC scores, the random forest is the best-performing model, so now let's evaluate its performance on the test set.\n",
    "from sklearn.metrics import confusion_matrix, classification_report, matthews_corrcoef, cohen_kappa_score, accuracy_score, average_precision_score, roc_auc_score\n",
    "\n",
    "cm1=confusion_matrix(y_test,pre)\n",
    "print('Confusion Matrix result of Decision Tree Classifier is:\\n',cm1)\n",
    "print(\"\")\n",
    "sensitivity1 = cm1[0,0]/(cm1[0,0]+cm1[0,1])\n",
    "print('Sensitivity : ', sensitivity1 )\n",
    "print(\"\")\n",
    "specificity1 = cm1[1,1]/(cm1[1,0]+cm1[1,1])\n",
    "print('Specificity : ', specificity1)\n",
    "print(\"\")"
   ]
  },
  {
   "cell_type": "code",
   "execution_count": 24,
   "id": "44fb3ab6",
   "metadata": {
    "scrolled": true
   },
   "outputs": [
    {
     "name": "stdout",
     "output_type": "stream",
     "text": [
      "ENTER THE SENTENCE:\"I loved this pill at first, it got rid if my terrible cramps. A few months after, however, I had two periods each month. Now I have a period every other week. The birth control pill is a hit-or-miss type of business.\"\n"
     ]
    }
   ],
   "source": [
    "input_word=input(\"ENTER THE SENTENCE:\")"
   ]
  },
  {
   "cell_type": "code",
   "execution_count": 25,
   "id": "5a4508f0",
   "metadata": {
    "scrolled": true
   },
   "outputs": [
    {
     "name": "stdout",
     "output_type": "stream",
     "text": [
      "['Ethinyl estradiol / norethindrone']\n"
     ]
    }
   ],
   "source": [
    "data = cv.transform([input_word]).toarray()\n",
    "print(clf.predict(data))"
   ]
  },
  {
   "cell_type": "code",
   "execution_count": null,
   "id": "e7626a77",
   "metadata": {},
   "outputs": [],
   "source": []
  }
 ],
 "metadata": {
  "kernelspec": {
   "display_name": "Python 3 (ipykernel)",
   "language": "python",
   "name": "python3"
  },
  "language_info": {
   "codemirror_mode": {
    "name": "ipython",
    "version": 3
   },
   "file_extension": ".py",
   "mimetype": "text/x-python",
   "name": "python",
   "nbconvert_exporter": "python",
   "pygments_lexer": "ipython3",
   "version": "3.8.12"
  }
 },
 "nbformat": 4,
 "nbformat_minor": 5
}
